{
 "cells": [
  {
   "cell_type": "markdown",
   "metadata": {
    "vscode": {
     "languageId": "plaintext"
    }
   },
   "source": [
    "# Base Agent based on LangGraph"
   ]
  },
  {
   "cell_type": "markdown",
   "metadata": {},
   "source": [
    "## chatbot with RAG"
   ]
  },
  {
   "cell_type": "code",
   "execution_count": 1,
   "metadata": {},
   "outputs": [
    {
     "name": "stderr",
     "output_type": "stream",
     "text": [
      "/Users/sean/lagom/paper-study-agent/.venv/lib/python3.11/site-packages/tqdm/auto.py:21: TqdmWarning: IProgress not found. Please update jupyter and ipywidgets. See https://ipywidgets.readthedocs.io/en/stable/user_install.html\n",
      "  from .autonotebook import tqdm as notebook_tqdm\n"
     ]
    },
    {
     "name": "stdout",
     "output_type": "stream",
     "text": [
      "LangSmith 추적을 시작합니다.\n",
      "[프로젝트명]\n",
      "Base-agent\n"
     ]
    }
   ],
   "source": [
    "# 표준 라이브러리\n",
    "import warnings\n",
    "from typing import Annotated\n",
    "from typing_extensions import TypedDict\n",
    "\n",
    "# 환경 변수\n",
    "from dotenv import load_dotenv\n",
    "\n",
    "# 외부 라이브러리\n",
    "from pinecone import Pinecone, ServerlessSpec\n",
    "\n",
    "# LangChain 및 연동 라이브러리\n",
    "from langchain_openai import ChatOpenAI, OpenAIEmbeddings\n",
    "from langchain_core.prompts import PromptTemplate\n",
    "from langchain_core.output_parsers import StrOutputParser\n",
    "from langchain_core.tools.retriever import create_retriever_tool\n",
    "from langchain_core.runnables import RunnablePassthrough, RunnableConfig\n",
    "from langgraph.graph import StateGraph, START, END\n",
    "from langgraph.graph.message import add_messages\n",
    "from langgraph.checkpoint.memory import MemorySaver\n",
    "from langgraph.prebuilt import tools_condition, ToolNode\n",
    "from langchain_text_splitters import MarkdownHeaderTextSplitter\n",
    "from langchain_docling import DoclingLoader\n",
    "from langchain_docling.loader import ExportType\n",
    "from langchain_pinecone import PineconeVectorStore\n",
    "\n",
    "# 프로젝트/특수 목적 라이브러리\n",
    "from langchain_teddynote import logging\n",
    "from langchain_teddynote.graphs import visualize_graph\n",
    "from langchain_teddynote.messages import (\n",
    "    messages_to_history,\n",
    "    invoke_graph,\n",
    "    stream_graph,\n",
    "    random_uuid,\n",
    ")\n",
    "\n",
    "from langchain_text_splitters import RecursiveCharacterTextSplitter\n",
    "from langchain_community.document_loaders import PyMuPDFLoader\n",
    "from langchain_community.vectorstores import FAISS\n",
    "from langchain_community.vectorstores import Qdrant\n",
    "from langchain_core.output_parsers import StrOutputParser\n",
    "from langchain_core.runnables import RunnablePassthrough\n",
    "from langchain_core.prompts import PromptTemplate\n",
    "from langchain_openai import ChatOpenAI, OpenAIEmbeddings\n",
    "\n",
    "\n",
    "warnings.filterwarnings(action=\"ignore\")\n",
    "\n",
    "load_dotenv()\n",
    "\n",
    "logging.langsmith(\"Base-agent\")"
   ]
  },
  {
   "cell_type": "code",
   "execution_count": null,
   "metadata": {},
   "outputs": [],
   "source": []
  },
  {
   "cell_type": "code",
   "execution_count": 2,
   "metadata": {},
   "outputs": [],
   "source": [
    "class PaperState(TypedDict):\n",
    "    title: Annotated[str, \"Title\"]  # 문서 이름\n",
    "    question: Annotated[str, \"Question\"]  # 질문\n",
    "    context: Annotated[str, \"Context\"]  # 문서의 검색 결과\n",
    "    answer: Annotated[str, \"Answer\"]  # 답변\n",
    "    messages: Annotated[list, add_messages]  # 메시지(누적되는 list)"
   ]
  },
  {
   "cell_type": "code",
   "execution_count": 3,
   "metadata": {},
   "outputs": [
    {
     "name": "stdout",
     "output_type": "stream",
     "text": [
      "paper 인덱스가 이미 존재합니다. 기존 인덱스에 데이터를 추가합니다.\n",
      "문서가 인덱스에 추가되었습니다.\n"
     ]
    }
   ],
   "source": [
    "def create_retriever():\n",
    "    loader = PyMuPDFLoader(\n",
    "        \"../data/Retrieval Augmented Generation for Knowledge Intensive NLP Tasks.pdf\"\n",
    "    )\n",
    "    docs = loader.load()\n",
    "\n",
    "    text_splitter = RecursiveCharacterTextSplitter(chunk_size=500, chunk_overlap=50)\n",
    "    split_documents = text_splitter.split_documents(docs)\n",
    "\n",
    "    embeddings = OpenAIEmbeddings()\n",
    "\n",
    "    pc = Pinecone()\n",
    "    index_name = \"paper\"\n",
    "\n",
    "    index_names = [index_info[\"name\"] for index_info in pc.list_indexes()]\n",
    "\n",
    "    if index_name not in index_names:\n",
    "        pc.create_index(\n",
    "            name=index_name,\n",
    "            dimension=1536,  # OpenAI 임베딩 벡터 차원\n",
    "            metric=\"dotproduct\",\n",
    "            spec=ServerlessSpec(cloud=\"aws\", region=\"us-east-1\"),\n",
    "        )\n",
    "        print(f\"{index_name} 인덱스를 새로 생성했습니다.\")\n",
    "    else:\n",
    "        print(\n",
    "            f\"{index_name} 인덱스가 이미 존재합니다. 기존 인덱스에 데이터를 추가합니다.\"\n",
    "        )\n",
    "\n",
    "    vectorstore = PineconeVectorStore.from_documents(\n",
    "        split_documents, embeddings, index_name=index_name\n",
    "    )\n",
    "    print(\"문서가 인덱스에 추가되었습니다.\")\n",
    "\n",
    "    retriever = vectorstore.as_retriever()\n",
    "\n",
    "    return retriever\n",
    "\n",
    "\n",
    "pdf_retriever = create_retriever()\n",
    "\n",
    "retriever_tool = create_retriever_tool(\n",
    "    retriever=pdf_retriever,\n",
    "    name=\"pdf_retriever\",\n",
    "    description=\"Search and return information about PDF file.\",\n",
    ")\n",
    "\n",
    "tools = [retriever_tool]"
   ]
  },
  {
   "cell_type": "code",
   "execution_count": 4,
   "metadata": {},
   "outputs": [],
   "source": [
    "llm = ChatOpenAI(model=\"gpt-4o-mini\", temperature=0)\n",
    "\n",
    "\n",
    "# Chat 노드\n",
    "def chat_node(state: PaperState) -> PaperState:\n",
    "\n",
    "    question = state[\"question\"]\n",
    "    state[\"messages\"] = question\n",
    "\n",
    "    title = state[\"title\"]\n",
    "\n",
    "    llm_tools = llm.bind_tools(tools)\n",
    "    prompt = f\"\"\"제공된 문서를 참고해서 질문에 대답해줘. \n",
    "    한국말로 대답해줘.\n",
    "    # 제공된 문서 이름\n",
    "    {title}\n",
    "\n",
    "    # 질문:\n",
    "    {question}\n",
    "    \"\"\"\n",
    "    answer = llm_tools.invoke(prompt)\n",
    "    state[\"answer\"] = answer\n",
    "\n",
    "    return {\"messages\": [answer]}\n",
    "\n",
    "\n",
    "# Retrieval 노드\n",
    "def retrieval_node(state: PaperState) -> PaperState:\n",
    "    question = state[\"question\"]\n",
    "    context = pdf_retriever.invoke(question)\n",
    "\n",
    "    return {\"context\": [context]}\n",
    "\n",
    "\n",
    "# Generation 노드\n",
    "def generation_node(state: PaperState) -> PaperState:\n",
    "    question = state[\"question\"]\n",
    "    context = state[\"context\"]\n",
    "    title = state[\"title\"]\n",
    "    prompt = f\"\"\"제공된 문서를 참고해서 질문에 대답해줘. \n",
    "    참고 내용의 페이지를 알려줘.\n",
    "    한국말로 대답해줘.\n",
    "    # 제공된 문서 이름\n",
    "    {title}\n",
    "\n",
    "    # 참고 내용\n",
    "    {context}\n",
    "\n",
    "    # 질문:\n",
    "    {question}\n",
    "    \"\"\"\n",
    "    answer = llm.invoke(prompt)\n",
    "\n",
    "    return {\"answer\": [answer]}"
   ]
  },
  {
   "cell_type": "code",
   "execution_count": 5,
   "metadata": {},
   "outputs": [
    {
     "data": {
      "image/png": "[encoded data removed]",
      "text/plain": [
       "<IPython.core.display.Image object>"
      ]
     },
     "metadata": {},
     "output_type": "display_data"
    }
   ],
   "source": [
    "graph_builder = StateGraph(PaperState)\n",
    "\n",
    "graph_builder.add_node(\"chatbot\", chat_node)\n",
    "graph_builder.add_node(\"retriever\", retrieval_node)\n",
    "graph_builder.add_node(\"generator\", generation_node)\n",
    "\n",
    "graph_builder.add_edge(START, \"chatbot\")\n",
    "\n",
    "graph_builder.add_conditional_edges(\n",
    "    \"chatbot\",\n",
    "    tools_condition,\n",
    "    {\n",
    "        \"tools\": \"retriever\",\n",
    "        END: END,\n",
    "    },\n",
    ")\n",
    "\n",
    "graph_builder.add_edge(\"retriever\", \"generator\")\n",
    "graph_builder.add_edge(\"generator\", END)\n",
    "\n",
    "graph = graph_builder.compile(checkpointer=MemorySaver())\n",
    "\n",
    "visualize_graph(graph)"
   ]
  },
  {
   "cell_type": "code",
   "execution_count": null,
   "metadata": {},
   "outputs": [],
   "source": []
  },
  {
   "cell_type": "code",
   "execution_count": 6,
   "metadata": {},
   "outputs": [
    {
     "name": "stdout",
     "output_type": "stream",
     "text": [
      "\n",
      "==================================================\n",
      "🔄 Node: \u001b[1;36mchatbot\u001b[0m 🔄\n",
      "- - - - - - - - - - - - - - - - - - - - - - - - - \n",
      "==================================\u001b[1m Ai Message \u001b[0m==================================\n",
      "Tool Calls:\n",
      "  pdf_retriever (call_J5ZksFUM1ViYIP2iuMfQY967)\n",
      " Call ID: call_J5ZksFUM1ViYIP2iuMfQY967\n",
      "  Args:\n",
      "    query: 안녕\n",
      "==================================================\n",
      "\n",
      "==================================================\n",
      "🔄 Node: \u001b[1;36mretriever\u001b[0m 🔄\n",
      "- - - - - - - - - - - - - - - - - - - - - - - - - \n",
      "[Document(id='9231b7eb-7ada-45ba-a5a4-75d4924e1e64', metadata={'author': '', 'creationDate': 'D:20240410211143Z', 'creationdate': '2024-04-10T21:11:43+00:00', 'creator': 'LaTeX with hyperref', 'file_path': '../data/Attention Is All You Need.pdf', 'format': 'PDF 1.5', 'keywords': '', 'modDate': 'D:20240410211143Z', 'moddate': '2024-04-10T21:11:43+00:00', 'page': 11.0, 'producer': 'pdfTeX-1.40.25', 'source': '../data/Attention Is All You Need.pdf', 'subject': '', 'title': '', 'total_pages': 15.0, 'trapped': ''}, page_content='[37] Vinyals & Kaiser, Koo, Petrov, Sutskever, and Hinton. Grammar as a foreign language. In\\nAdvances in Neural Information Processing Systems, 2015.\\n[38] Yonghui Wu, Mike Schuster, Zhifeng Chen, Quoc V Le, Mohammad Norouzi, Wolfgang\\nMacherey, Maxim Krikun, Yuan Cao, Qin Gao, Klaus Macherey, et al. Google’s neural machine\\ntranslation system: Bridging the gap between human and machine translation. arXiv preprint\\narXiv:1609.08144, 2016.'), Document(id='33e43920-6078-4656-a1b0-99256d7e9fe5', metadata={'author': '', 'creationDate': 'D:20240410211143Z', 'creationdate': '2024-04-10T21:11:43+00:00', 'creator': 'LaTeX with hyperref', 'file_path': '../data/Attention Is All You Need.pdf', 'format': 'PDF 1.5', 'keywords': '', 'modDate': 'D:20240410211143Z', 'moddate': '2024-04-10T21:11:43+00:00', 'page': 14.0, 'producer': 'pdfTeX-1.40.25', 'source': '../data/Attention Is All You Need.pdf', 'subject': '', 'title': '', 'total_pages': 15.0, 'trapped': ''}, page_content='The\\nLaw\\nwill\\nnever\\nbe\\nperfect\\n,\\nbut\\nits\\napplication\\nshould\\nbe\\njust\\n-\\nthis\\nis\\nwhat\\nwe\\nare\\nmissing\\n,\\nin\\nmy\\nopinion\\n.\\n<EOS>\\n<pad>\\nThe\\nLaw\\nwill\\nnever\\nbe\\nperfect\\n,\\nbut\\nits\\napplication\\nshould\\nbe\\njust\\n-\\nthis\\nis\\nwhat\\nwe\\nare\\nmissing\\n,\\nin\\nmy\\nopinion\\n.\\n<EOS>\\n<pad>\\nThe\\nLaw\\nwill\\nnever\\nbe\\nperfect\\n,\\nbut\\nits\\napplication\\nshould\\nbe\\njust\\n-\\nthis\\nis\\nwhat\\nwe\\nare\\nmissing\\n,\\nin\\nmy\\nopinion\\n.\\n<EOS>\\n<pad>\\nThe\\nLaw\\nwill\\nnever\\nbe\\nperfect\\n,\\nbut\\nits\\napplication\\nshould\\nbe\\njust\\n-\\nthis\\nis\\nwhat\\nwe\\nare\\nmissing\\n,\\nin\\nmy\\nopinion\\n.'), Document(id='c258a8c8-47a3-449d-bd50-431ae6f34201', metadata={'author': '', 'creationDate': 'D:20240410211143Z', 'creationdate': '2024-04-10T21:11:43+00:00', 'creator': 'LaTeX with hyperref', 'file_path': '../data/Attention Is All You Need.pdf', 'format': 'PDF 1.5', 'keywords': '', 'modDate': 'D:20240410211143Z', 'moddate': '2024-04-10T21:11:43+00:00', 'page': 13.0, 'producer': 'pdfTeX-1.40.25', 'source': '../data/Attention Is All You Need.pdf', 'subject': '', 'title': '', 'total_pages': 15.0, 'trapped': ''}, page_content='The\\nLaw\\nwill\\nnever\\nbe\\nperfect\\n,\\nbut\\nits\\napplication\\nshould\\nbe\\njust\\n-\\nthis\\nis\\nwhat\\nwe\\nare\\nmissing\\n,\\nin\\nmy\\nopinion\\n.\\n<EOS>\\n<pad>\\nThe\\nLaw\\nwill\\nnever\\nbe\\nperfect\\n,\\nbut\\nits\\napplication\\nshould\\nbe\\njust\\n-\\nthis\\nis\\nwhat\\nwe\\nare\\nmissing\\n,\\nin\\nmy\\nopinion\\n.\\n<EOS>\\n<pad>\\nThe\\nLaw\\nwill\\nnever\\nbe\\nperfect\\n,\\nbut\\nits\\napplication\\nshould\\nbe\\njust\\n-\\nthis\\nis\\nwhat\\nwe\\nare\\nmissing\\n,\\nin\\nmy\\nopinion\\n.\\n<EOS>\\n<pad>\\nThe\\nLaw\\nwill\\nnever\\nbe\\nperfect\\n,\\nbut\\nits\\napplication\\nshould\\nbe\\njust\\n-\\nthis\\nis\\nwhat\\nwe\\nare\\nmissing\\n,\\nin\\nmy\\nopinion\\n.'), Document(id='09e4e1b2-34ca-4552-96ce-5b53497c4a0d', metadata={'author': '', 'creationDate': 'D:20210413004838Z', 'creationdate': '2021-04-13T00:48:38+00:00', 'creator': 'LaTeX with hyperref', 'file_path': '../data/Retrieval Augmented Generation for Knowledge Intensive NLP Tasks.pdf', 'format': 'PDF 1.5', 'keywords': '', 'modDate': 'D:20210413004838Z', 'moddate': '2021-04-13T00:48:38+00:00', 'page': 10.0, 'producer': 'pdfTeX-1.40.21', 'source': '../data/Retrieval Augmented Generation for Knowledge Intensive NLP Tasks.pdf', 'subject': '', 'title': '', 'total_pages': 19.0, 'trapped': ''}, page_content='machine translation. In 32nd AAAI Conference on Artiﬁcial Intelligence, AAAI 2018, 32nd\\nAAAI Conference on Artiﬁcial Intelligence, AAAI 2018, pages 5133–5140. AAAI press, 2018.\\n32nd AAAI Conference on Artiﬁcial Intelligence, AAAI 2018 ; Conference date: 02-02-2018\\nThrough 07-02-2018.\\n[19] Kelvin Guu, Tatsunori B. Hashimoto, Yonatan Oren, and Percy Liang. Generating sentences by\\nediting prototypes. Transactions of the Association for Computational Linguistics, 6:437–450,')]\n",
      "==================================================\n",
      "\n",
      "==================================================\n",
      "🔄 Node: \u001b[1;36mgenerator\u001b[0m 🔄\n",
      "- - - - - - - - - - - - - - - - - - - - - - - - - \n",
      "==================================\u001b[1m Ai Message \u001b[0m==================================\n",
      "\n",
      "안녕하세요! 어떻게 도와드릴까요? 제공된 문서에 대한 질문이 있으시면 말씀해 주세요.\n",
      "==================================================\n"
     ]
    }
   ],
   "source": [
    "config = RunnableConfig(recursion_limit=5, configurable={\"thread_id\": random_uuid()})\n",
    "\n",
    "paper_title = \"Retrieval Augmented Generation for Knowledge Intensive NLP Tasks.pdf\"\n",
    "question = \"안녕\"\n",
    "inputs = PaperState(question=question, title=paper_title)\n",
    "\n",
    "invoke_graph(graph, inputs, config)"
   ]
  },
  {
   "cell_type": "code",
   "execution_count": 7,
   "metadata": {},
   "outputs": [
    {
     "name": "stdout",
     "output_type": "stream",
     "text": [
      "\n",
      "==================================================\n",
      "🔄 Node: \u001b[1;36mchatbot\u001b[0m 🔄\n",
      "- - - - - - - - - - - - - - - - - - - - - - - - - \n",
      "==================================\u001b[1m Ai Message \u001b[0m==================================\n",
      "Tool Calls:\n",
      "  pdf_retriever (call_eIuxhvauO59YwNud2qdsHF7b)\n",
      " Call ID: call_eIuxhvauO59YwNud2qdsHF7b\n",
      "  Args:\n",
      "    query: 저자\n",
      "==================================================\n",
      "\n",
      "==================================================\n",
      "🔄 Node: \u001b[1;36mretriever\u001b[0m 🔄\n",
      "- - - - - - - - - - - - - - - - - - - - - - - - - \n",
      "[Document(id='b777abf8-576d-4b70-981e-d27c1fd9c4c0', metadata={'author': '', 'creationDate': 'D:20210413004838Z', 'creationdate': '2021-04-13T00:48:38+00:00', 'creator': 'LaTeX with hyperref', 'file_path': '../data/Retrieval Augmented Generation for Knowledge Intensive NLP Tasks.pdf', 'format': 'PDF 1.5', 'keywords': '', 'modDate': 'D:20210413004838Z', 'moddate': '2021-04-13T00:48:38+00:00', 'page': 9.0, 'producer': 'pdfTeX-1.40.21', 'source': '../data/Retrieval Augmented Generation for Knowledge Intensive NLP Tasks.pdf', 'subject': '', 'title': '', 'total_pages': 19.0, 'trapped': ''}, page_content='Computational Linguistics (Volume 1: Long Papers), pages 1870–1879, Vancouver, Canada,\\nJuly 2017. Association for Computational Linguistics. doi: 10.18653/v1/P17-1171. URL\\nhttps://www.aclweb.org/anthology/P17-1171.\\n[6] Eunsol Choi, Daniel Hewlett, Jakob Uszkoreit, Illia Polosukhin, Alexandre Lacoste, and\\nJonathan Berant. Coarse-to-ﬁne question answering for long documents. In Proceedings of the\\n55th Annual Meeting of the Association for Computational Linguistics (Volume 1: Long Papers),'), Document(id='fcc092b5-ea09-4348-b06f-187c25d86425', metadata={'author': '', 'creationDate': 'D:20210413004838Z', 'creationdate': '2021-04-13T00:48:38+00:00', 'creator': 'LaTeX with hyperref', 'file_path': '../data/Retrieval Augmented Generation for Knowledge Intensive NLP Tasks.pdf', 'format': 'PDF 1.5', 'keywords': '', 'modDate': 'D:20210413004838Z', 'moddate': '2021-04-13T00:48:38+00:00', 'page': 9.0, 'producer': 'pdfTeX-1.40.21', 'source': '../data/Retrieval Augmented Generation for Knowledge Intensive NLP Tasks.pdf', 'subject': '', 'title': '', 'total_pages': 19.0, 'trapped': ''}, page_content='Computational Linguistics (Volume 1: Long Papers), pages 1870–1879, Vancouver, Canada,\\nJuly 2017. Association for Computational Linguistics. doi: 10.18653/v1/P17-1171. URL\\nhttps://www.aclweb.org/anthology/P17-1171.\\n[6] Eunsol Choi, Daniel Hewlett, Jakob Uszkoreit, Illia Polosukhin, Alexandre Lacoste, and\\nJonathan Berant. Coarse-to-ﬁne question answering for long documents. In Proceedings of the\\n55th Annual Meeting of the Association for Computational Linguistics (Volume 1: Long Papers),'), Document(id='ae8ac4bb-ef08-430a-a2d8-704059f80809', metadata={'author': '', 'creationDate': 'D:20210413004838Z', 'creationdate': '2021-04-13T00:48:38+00:00', 'creator': 'LaTeX with hyperref', 'file_path': '../data/Retrieval Augmented Generation for Knowledge Intensive NLP Tasks.pdf', 'format': 'PDF 1.5', 'keywords': '', 'modDate': 'D:20210413004838Z', 'moddate': '2021-04-13T00:48:38+00:00', 'page': 9.0, 'producer': 'pdfTeX-1.40.21', 'source': '../data/Retrieval Augmented Generation for Knowledge Intensive NLP Tasks.pdf', 'subject': '', 'title': '', 'total_pages': 19.0, 'trapped': ''}, page_content='Computational Linguistics (Volume 1: Long Papers), pages 1870–1879, Vancouver, Canada,\\nJuly 2017. Association for Computational Linguistics. doi: 10.18653/v1/P17-1171. URL\\nhttps://www.aclweb.org/anthology/P17-1171.\\n[6] Eunsol Choi, Daniel Hewlett, Jakob Uszkoreit, Illia Polosukhin, Alexandre Lacoste, and\\nJonathan Berant. Coarse-to-ﬁne question answering for long documents. In Proceedings of the\\n55th Annual Meeting of the Association for Computational Linguistics (Volume 1: Long Papers),'), Document(id='bcd67bd3-c16f-4959-bac1-2536407ef405', metadata={'author': '', 'creationDate': 'D:20210413004838Z', 'creationdate': '2021-04-13T00:48:38+00:00', 'creator': 'LaTeX with hyperref', 'file_path': '../data/Retrieval Augmented Generation for Knowledge Intensive NLP Tasks.pdf', 'format': 'PDF 1.5', 'keywords': '', 'modDate': 'D:20210413004838Z', 'moddate': '2021-04-13T00:48:38+00:00', 'page': 9.0, 'producer': 'pdfTeX-1.40.21', 'source': '../data/Retrieval Augmented Generation for Knowledge Intensive NLP Tasks.pdf', 'subject': '', 'title': '', 'total_pages': 19.0, 'trapped': ''}, page_content='Computational Linguistics (Volume 1: Long Papers), pages 1870–1879, Vancouver, Canada,\\nJuly 2017. Association for Computational Linguistics. doi: 10.18653/v1/P17-1171. URL\\nhttps://www.aclweb.org/anthology/P17-1171.\\n[6] Eunsol Choi, Daniel Hewlett, Jakob Uszkoreit, Illia Polosukhin, Alexandre Lacoste, and\\nJonathan Berant. Coarse-to-ﬁne question answering for long documents. In Proceedings of the\\n55th Annual Meeting of the Association for Computational Linguistics (Volume 1: Long Papers),')]\n",
      "==================================================\n",
      "\n",
      "==================================================\n",
      "🔄 Node: \u001b[1;36mgenerator\u001b[0m 🔄\n",
      "- - - - - - - - - - - - - - - - - - - - - - - - - \n",
      "==================================\u001b[1m Ai Message \u001b[0m==================================\n",
      "\n",
      "제공된 문서의 저자는 명시되어 있지 않습니다. 문서의 메타데이터에는 저자 정보가 포함되어 있지 않으며, 페이지 9에서도 저자에 대한 정보는 제공되지 않습니다.\n",
      "==================================================\n"
     ]
    }
   ],
   "source": [
    "config = RunnableConfig(recursion_limit=5, configurable={\"thread_id\": random_uuid()})\n",
    "\n",
    "paper_title = \"Retrieval Augmented Generation for Knowledge Intensive NLP Tasks.pdf\"\n",
    "question = \"이 문서의 저자는 누구야?\"\n",
    "inputs = PaperState(question=question, title=paper_title)\n",
    "\n",
    "invoke_graph(graph, inputs, config)"
   ]
  },
  {
   "cell_type": "code",
   "execution_count": 8,
   "metadata": {},
   "outputs": [
    {
     "name": "stdout",
     "output_type": "stream",
     "text": [
      "\n",
      "==================================================\n",
      "🔄 Node: \u001b[1;36mchatbot\u001b[0m 🔄\n",
      "- - - - - - - - - - - - - - - - - - - - - - - - - \n",
      "==================================\u001b[1m Ai Message \u001b[0m==================================\n",
      "Tool Calls:\n",
      "  pdf_retriever (call_N8AleGbDKTolHcYJrwauz7An)\n",
      " Call ID: call_N8AleGbDKTolHcYJrwauz7An\n",
      "  Args:\n",
      "    query: Retrieval Augmented Generation for Knowledge Intensive NLP Tasks 저자\n",
      "==================================================\n",
      "\n",
      "==================================================\n",
      "🔄 Node: \u001b[1;36mretriever\u001b[0m 🔄\n",
      "- - - - - - - - - - - - - - - - - - - - - - - - - \n",
      "[Document(id='2ddc94fb-afc9-425e-bd25-c1cf5b9bef01', metadata={'author': '', 'creationDate': 'D:20210413004838Z', 'creationdate': '2021-04-13T00:48:38+00:00', 'creator': 'LaTeX with hyperref', 'file_path': '../data/Retrieval Augmented Generation for Knowledge Intensive NLP Tasks.pdf', 'format': 'PDF 1.5', 'keywords': '', 'modDate': 'D:20210413004838Z', 'moddate': '2021-04-13T00:48:38+00:00', 'page': 0.0, 'producer': 'pdfTeX-1.40.21', 'source': '../data/Retrieval Augmented Generation for Knowledge Intensive NLP Tasks.pdf', 'subject': '', 'title': '', 'total_pages': 19.0, 'trapped': ''}, page_content='Retrieval-Augmented Generation for\\nKnowledge-Intensive NLP Tasks\\nPatrick Lewis†‡, Ethan Perez⋆,\\nAleksandra Piktus†, Fabio Petroni†, Vladimir Karpukhin†, Naman Goyal†, Heinrich Küttler†,\\nMike Lewis†, Wen-tau Yih†, Tim Rocktäschel†‡, Sebastian Riedel†‡, Douwe Kiela†\\n†Facebook AI Research; ‡University College London; ⋆New York University;\\nplewis@fb.com\\nAbstract\\nLarge pre-trained language models have been shown to store factual knowledge'), Document(id='b6e14414-f65f-4e53-b73a-5e450435f9d2', metadata={'author': '', 'creationDate': 'D:20210413004838Z', 'creationdate': '2021-04-13T00:48:38+00:00', 'creator': 'LaTeX with hyperref', 'file_path': '../data/Retrieval Augmented Generation for Knowledge Intensive NLP Tasks.pdf', 'format': 'PDF 1.5', 'keywords': '', 'modDate': 'D:20210413004838Z', 'moddate': '2021-04-13T00:48:38+00:00', 'page': 0.0, 'producer': 'pdfTeX-1.40.21', 'source': '../data/Retrieval Augmented Generation for Knowledge Intensive NLP Tasks.pdf', 'subject': '', 'title': '', 'total_pages': 19.0, 'trapped': ''}, page_content='Retrieval-Augmented Generation for\\nKnowledge-Intensive NLP Tasks\\nPatrick Lewis†‡, Ethan Perez⋆,\\nAleksandra Piktus†, Fabio Petroni†, Vladimir Karpukhin†, Naman Goyal†, Heinrich Küttler†,\\nMike Lewis†, Wen-tau Yih†, Tim Rocktäschel†‡, Sebastian Riedel†‡, Douwe Kiela†\\n†Facebook AI Research; ‡University College London; ⋆New York University;\\nplewis@fb.com\\nAbstract\\nLarge pre-trained language models have been shown to store factual knowledge'), Document(id='426982bf-b690-45ba-8efb-57d298948f8b', metadata={'author': '', 'creationDate': 'D:20210413004838Z', 'creationdate': '2021-04-13T00:48:38+00:00', 'creator': 'LaTeX with hyperref', 'file_path': '../data/Retrieval Augmented Generation for Knowledge Intensive NLP Tasks.pdf', 'format': 'PDF 1.5', 'keywords': '', 'modDate': 'D:20210413004838Z', 'moddate': '2021-04-13T00:48:38+00:00', 'page': 0.0, 'producer': 'pdfTeX-1.40.21', 'source': '../data/Retrieval Augmented Generation for Knowledge Intensive NLP Tasks.pdf', 'subject': '', 'title': '', 'total_pages': 19.0, 'trapped': ''}, page_content='Retrieval-Augmented Generation for\\nKnowledge-Intensive NLP Tasks\\nPatrick Lewis†‡, Ethan Perez⋆,\\nAleksandra Piktus†, Fabio Petroni†, Vladimir Karpukhin†, Naman Goyal†, Heinrich Küttler†,\\nMike Lewis†, Wen-tau Yih†, Tim Rocktäschel†‡, Sebastian Riedel†‡, Douwe Kiela†\\n†Facebook AI Research; ‡University College London; ⋆New York University;\\nplewis@fb.com\\nAbstract\\nLarge pre-trained language models have been shown to store factual knowledge'), Document(id='a4e0e934-7d1b-4e84-a4ec-3b2ee8596555', metadata={'author': '', 'creationDate': 'D:20210413004838Z', 'creationdate': '2021-04-13T00:48:38+00:00', 'creator': 'LaTeX with hyperref', 'file_path': '../data/Retrieval Augmented Generation for Knowledge Intensive NLP Tasks.pdf', 'format': 'PDF 1.5', 'keywords': '', 'modDate': 'D:20210413004838Z', 'moddate': '2021-04-13T00:48:38+00:00', 'page': 0.0, 'producer': 'pdfTeX-1.40.21', 'source': '../data/Retrieval Augmented Generation for Knowledge Intensive NLP Tasks.pdf', 'subject': '', 'title': '', 'total_pages': 19.0, 'trapped': ''}, page_content='Retrieval-Augmented Generation for\\nKnowledge-Intensive NLP Tasks\\nPatrick Lewis†‡, Ethan Perez⋆,\\nAleksandra Piktus†, Fabio Petroni†, Vladimir Karpukhin†, Naman Goyal†, Heinrich Küttler†,\\nMike Lewis†, Wen-tau Yih†, Tim Rocktäschel†‡, Sebastian Riedel†‡, Douwe Kiela†\\n†Facebook AI Research; ‡University College London; ⋆New York University;\\nplewis@fb.com\\nAbstract\\nLarge pre-trained language models have been shown to store factual knowledge')]\n",
      "==================================================\n",
      "\n",
      "==================================================\n",
      "🔄 Node: \u001b[1;36mgenerator\u001b[0m 🔄\n",
      "- - - - - - - - - - - - - - - - - - - - - - - - - \n",
      "==================================\u001b[1m Ai Message \u001b[0m==================================\n",
      "\n",
      "'Retrieval Augmented Generation for Knowledge Intensive NLP Tasks'의 저자는 Patrick Lewis, Ethan Perez, Aleksandra Piktus, Fabio Petroni, Vladimir Karpukhin, Naman Goyal, Heinrich Küttler, Mike Lewis, Wen-tau Yih, Tim Rocktäschel, Sebastian Riedel, Douwe Kiela입니다. 이 정보는 문서의 첫 페이지에 포함되어 있습니다. (페이지 1)\n",
      "==================================================\n"
     ]
    }
   ],
   "source": [
    "config = RunnableConfig(recursion_limit=5, configurable={\"thread_id\": random_uuid()})\n",
    "\n",
    "paper_title = \"Retrieval Augmented Generation for Knowledge Intensive NLP Tasks.pdf\"\n",
    "question = \"'Retrieval Augmented Generation for Knowledge Intensive NLP Tasks'의 저자는 누구야?\"\n",
    "inputs = PaperState(question=question, title=paper_title)\n",
    "\n",
    "invoke_graph(graph, inputs, config)"
   ]
  },
  {
   "cell_type": "code",
   "execution_count": null,
   "metadata": {},
   "outputs": [],
   "source": []
  },
  {
   "cell_type": "code",
   "execution_count": null,
   "metadata": {},
   "outputs": [],
   "source": []
  }
 ],
 "metadata": {
  "kernelspec": {
   "display_name": ".venv",
   "language": "python",
   "name": "python3"
  },
  "language_info": {
   "codemirror_mode": {
    "name": "ipython",
    "version": 3
   },
   "file_extension": ".py",
   "mimetype": "text/x-python",
   "name": "python",
   "nbconvert_exporter": "python",
   "pygments_lexer": "ipython3",
   "version": "3.11.9"
  }
 },
 "nbformat": 4,
 "nbformat_minor": 2
}
