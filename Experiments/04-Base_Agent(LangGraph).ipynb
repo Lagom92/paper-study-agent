{
 "cells": [
  {
   "cell_type": "markdown",
   "metadata": {},
   "source": [
    "# Base Agent based on LangGraph"
   ]
  },
  {
   "cell_type": "markdown",
   "metadata": {},
   "source": [
    "## Base Chatbot"
   ]
  },
  {
   "cell_type": "code",
   "execution_count": 5,
   "metadata": {},
   "outputs": [],
   "source": [
    "from langchain_openai import ChatOpenAI\n",
    "from typing import Annotated, TypedDict\n",
    "from langgraph.graph import StateGraph, START, END\n",
    "from langgraph.graph.message import add_messages\n",
    "from langchain_teddynote.graphs import visualize_graph"
   ]
  },
  {
   "cell_type": "code",
   "execution_count": 6,
   "metadata": {},
   "outputs": [
    {
     "data": {
      "text/plain": [
       "True"
      ]
     },
     "execution_count": 6,
     "metadata": {},
     "output_type": "execute_result"
    }
   ],
   "source": [
    "# API 키를 환경변수로 관리하기 위한 설정 파일\n",
    "from dotenv import load_dotenv\n",
    "\n",
    "# API 키 정보 로드\n",
    "load_dotenv()"
   ]
  },
  {
   "cell_type": "code",
   "execution_count": 7,
   "metadata": {},
   "outputs": [
    {
     "name": "stdout",
     "output_type": "stream",
     "text": [
      "LangSmith 추적을 시작합니다.\n",
      "[프로젝트명]\n",
      "Base-agent\n"
     ]
    }
   ],
   "source": [
    "from langchain_teddynote import logging\n",
    "\n",
    "# 프로젝트 이름을 입력합니다.\n",
    "logging.langsmith(\"Base-agent\")"
   ]
  },
  {
   "cell_type": "code",
   "execution_count": 8,
   "metadata": {},
   "outputs": [],
   "source": [
    "# STEP 1: State 정의\n",
    "class PaperState(TypedDict):\n",
    "    messages: Annotated[list, add_messages]"
   ]
  },
  {
   "cell_type": "code",
   "execution_count": 12,
   "metadata": {},
   "outputs": [],
   "source": [
    "# STEP 2: Node 정의\n",
    "# LLM 정의\n",
    "llm = ChatOpenAI(model=\"gpt-4o-mini\", temperature=0)\n",
    "\n",
    "\n",
    "# 챗봇 함수 정의\n",
    "def chatbot(state: PaperState):\n",
    "    # 메시지 호출 및 반환\n",
    "    answer = llm.invoke(state[\"messages\"])\n",
    "    state[\"messages\"].append(answer)\n",
    "    return state"
   ]
  },
  {
   "cell_type": "code",
   "execution_count": 13,
   "metadata": {},
   "outputs": [
    {
     "data": {
      "image/png": "[encoded data removed]",
      "text/plain": [
       "<IPython.core.display.Image object>"
      ]
     },
     "metadata": {},
     "output_type": "display_data"
    }
   ],
   "source": [
    "# STEP 3: Graph 정의 및 Node 추가\n",
    "graph_builder = StateGraph(PaperState)\n",
    "\n",
    "graph_builder.add_node(\"chatbot\", chatbot)\n",
    "\n",
    "# STEP 4: Edge 추가\n",
    "graph_builder.add_edge(START, \"chatbot\")\n",
    "graph_builder.add_edge(\"chatbot\", END)\n",
    "\n",
    "# STEP 5: Graph 컴파일\n",
    "graph = graph_builder.compile()\n",
    "\n",
    "# STEP 6: Graph 시각화\n",
    "visualize_graph(graph)"
   ]
  },
  {
   "cell_type": "code",
   "execution_count": 14,
   "metadata": {},
   "outputs": [
    {
     "name": "stdout",
     "output_type": "stream",
     "text": [
      "Assistant: 서울에는 맛있는 음식이 가득한 유명한 맛집들이 많습니다. 그 중에서 TOP 3를 추천해드릴게요.\n",
      "\n",
      "1. **광장시장** - 전통 시장인 광장시장은 다양한 한국 전통 음식을 맛볼 수 있는 곳입니다. 특히, 빈대떡과 마약김밥이 유명합니다. 시장의 활기찬 분위기 속에서 다양한 먹거리를 즐길 수 있습니다.\n",
      "\n",
      "2. **이태원 부대찌개** - 이태원에 위치한 부대찌개 전문점은 한국식 부대찌개의 원조로 알려져 있습니다. 푸짐한 재료와 깊은 국물 맛이 일품이며, 다양한 사이드 메뉴도 함께 즐길 수 있습니다.\n",
      "\n",
      "3. **삼청동 수제비** - 삼청동에 위치한 이곳은 수제비와 칼국수가 유명한 맛집입니다. 신선한 재료로 만든 수제비는 쫄깃하고 국물은 진한 맛이 특징입니다. 아늑한 분위기에서 편안하게 식사를 즐길 수 있습니다.\n",
      "\n",
      "이 외에도 서울에는 많은 맛집이 있으니, 다양한 음식을 즐겨보세요!\n"
     ]
    }
   ],
   "source": [
    "question = \"서울의 유명한 맛집 TOP 3 추천해줘\"\n",
    "\n",
    "# 그래프 이벤트 스트리밍\n",
    "for event in graph.stream({\"messages\": [(\"user\", question)]}):\n",
    "    # 이벤트 값 출력\n",
    "    for value in event.values():\n",
    "        print(\"Assistant:\", value[\"messages\"][-1].content)"
   ]
  },
  {
   "cell_type": "code",
   "execution_count": null,
   "metadata": {},
   "outputs": [],
   "source": []
  },
  {
   "cell_type": "markdown",
   "metadata": {},
   "source": [
    "### 정리"
   ]
  },
  {
   "cell_type": "code",
   "execution_count": 16,
   "metadata": {},
   "outputs": [
    {
     "name": "stdout",
     "output_type": "stream",
     "text": [
      "LangSmith 추적을 시작합니다.\n",
      "[프로젝트명]\n",
      "Base-agent\n"
     ]
    },
    {
     "data": {
      "image/png": "[encoded data removed]",
      "text/plain": [
       "<IPython.core.display.Image object>"
      ]
     },
     "metadata": {},
     "output_type": "display_data"
    },
    {
     "name": "stdout",
     "output_type": "stream",
     "text": [
      "a:  [HumanMessage(content='서울의 유명한 맛집 TOP 3 추천해줘', additional_kwargs={}, response_metadata={}, id='326ca0c7-2a57-45e0-94a1-576feb2bf261')]\n",
      "b:  [HumanMessage(content='서울의 유명한 맛집 TOP 3 추천해줘', additional_kwargs={}, response_metadata={}, id='326ca0c7-2a57-45e0-94a1-576feb2bf261'), AIMessage(content='서울에는 맛있는 음식점이 정말 많습니다! 그 중에서 유명한 맛집 TOP 3를 추천해드릴게요.\\n\\n1. **광장시장** - 이곳은 다양한 전통 음식을 맛볼 수 있는 시장입니다. 특히 빈대떡과 마약김밥이 유명합니다. 시장의 활기찬 분위기 속에서 다양한 먹거리를 즐길 수 있습니다.\\n\\n2. **이태원 부대찌개** - 이태원에 위치한 부대찌개 전문점으로, 푸짐한 양과 깊은 맛이 특징입니다. 다양한 재료가 들어간 부대찌개는 한국식 퓨전 요리의 대표적인 예로, 외국인 관광객들에게도 인기가 많습니다.\\n\\n3. **삼청동 수제비** - 삼청동에 위치한 이곳은 수제비와 칼국수가 유명한 집입니다. 신선한 재료로 만든 수제비는 쫄깃하고 국물 맛이 깊어 많은 사람들에게 사랑받고 있습니다.\\n\\n이 외에도 서울에는 많은 맛집이 있으니, 다양한 음식을 즐겨보세요!', additional_kwargs={'refusal': None}, response_metadata={'token_usage': {'completion_tokens': 244, 'prompt_tokens': 19, 'total_tokens': 263, 'completion_tokens_details': {'accepted_prediction_tokens': 0, 'audio_tokens': 0, 'reasoning_tokens': 0, 'rejected_prediction_tokens': 0}, 'prompt_tokens_details': {'audio_tokens': 0, 'cached_tokens': 0}}, 'model_name': 'gpt-4o-mini-2024-07-18', 'system_fingerprint': 'fp_62a23a81ef', 'id': 'chatcmpl-BaGVWVjWfVT6cnaX5QcZd7tXbolW2', 'service_tier': 'default', 'finish_reason': 'stop', 'logprobs': None}, id='run--83aabc0b-9347-4f79-8717-658c02a82c2d-0', usage_metadata={'input_tokens': 19, 'output_tokens': 244, 'total_tokens': 263, 'input_token_details': {'audio': 0, 'cache_read': 0}, 'output_token_details': {'audio': 0, 'reasoning': 0}})]\n",
      "Assistant: 서울에는 맛있는 음식점이 정말 많습니다! 그 중에서 유명한 맛집 TOP 3를 추천해드릴게요.\n",
      "\n",
      "1. **광장시장** - 이곳은 다양한 전통 음식을 맛볼 수 있는 시장입니다. 특히 빈대떡과 마약김밥이 유명합니다. 시장의 활기찬 분위기 속에서 다양한 먹거리를 즐길 수 있습니다.\n",
      "\n",
      "2. **이태원 부대찌개** - 이태원에 위치한 부대찌개 전문점으로, 푸짐한 양과 깊은 맛이 특징입니다. 다양한 재료가 들어간 부대찌개는 한국식 퓨전 요리의 대표적인 예로, 외국인 관광객들에게도 인기가 많습니다.\n",
      "\n",
      "3. **삼청동 수제비** - 삼청동에 위치한 이곳은 수제비와 칼국수가 유명한 집입니다. 신선한 재료로 만든 수제비는 쫄깃하고 국물 맛이 깊어 많은 사람들에게 사랑받고 있습니다.\n",
      "\n",
      "이 외에도 서울에는 많은 맛집이 있으니, 다양한 음식을 즐겨보세요!\n"
     ]
    }
   ],
   "source": [
    "# 필요한 라이브러리 임포트\n",
    "from langchain_openai import ChatOpenAI\n",
    "from typing import Annotated, TypedDict\n",
    "from langgraph.graph import StateGraph, START, END\n",
    "from langgraph.graph.message import add_messages\n",
    "from langchain_teddynote.graphs import visualize_graph\n",
    "\n",
    "from dotenv import load_dotenv  # 환경변수(.env) 파일 로드용\n",
    "from langchain_teddynote import logging\n",
    "\n",
    "# STEP 0: 환경설정 및 로깅\n",
    "load_dotenv()  # .env 파일의 환경변수 불러오기\n",
    "logging.langsmith(\"Base-agent\")  # LangSmith 프로젝트 이름 설정\n",
    "\n",
    "\n",
    "# STEP 1: 상태(State) 정의\n",
    "class PaperState(TypedDict):\n",
    "    # messages: 대화 메시지 리스트를 저장 (add_messages로 타입 어노테이션)\n",
    "    messages: Annotated[list, add_messages]\n",
    "\n",
    "\n",
    "# STEP 2: 노드(Node) 정의\n",
    "# LLM(언어모델) 인스턴스 생성\n",
    "llm = ChatOpenAI(model=\"gpt-4o-mini\", temperature=0)\n",
    "\n",
    "\n",
    "# 챗봇 노드 함수 정의\n",
    "def chatbot(state: PaperState):\n",
    "    # 현재까지의 메시지 출력 (디버깅용)\n",
    "    print(\"a: \", state[\"messages\"])\n",
    "    # LLM을 호출하여 답변 생성\n",
    "    answer = llm.invoke(state[\"messages\"])\n",
    "    # 답변을 메시지 리스트에 추가\n",
    "    state[\"messages\"].append(answer)\n",
    "    # 답변 추가 후 메시지 출력 (디버깅용)\n",
    "    print(\"b: \", state[\"messages\"])\n",
    "    # 상태 반환\n",
    "    return state\n",
    "\n",
    "\n",
    "# STEP 3: 그래프(Graph) 정의 및 노드 추가\n",
    "graph_builder = StateGraph(PaperState)  # 상태 타입을 지정하여 그래프 빌더 생성\n",
    "graph_builder.add_node(\"chatbot\", chatbot)  # \"chatbot\" 노드 추가\n",
    "\n",
    "# STEP 4: 엣지(Edge) 추가\n",
    "graph_builder.add_edge(START, \"chatbot\")  # 시작점 → 챗봇 노드\n",
    "graph_builder.add_edge(\"chatbot\", END)  # 챗봇 노드 → 종료점\n",
    "\n",
    "# STEP 5: 그래프 컴파일\n",
    "graph = graph_builder.compile()\n",
    "\n",
    "# STEP 6: 그래프 시각화 (노드와 엣지 구조를 이미지로 확인 가능)\n",
    "visualize_graph(graph)\n",
    "\n",
    "# STEP 7: 그래프 실행\n",
    "question = \"서울의 유명한 맛집 TOP 3 추천해줘\"\n",
    "\n",
    "# 그래프 실행 및 이벤트 스트리밍\n",
    "for event in graph.stream({\"messages\": [(\"user\", question)]}):\n",
    "    # 각 이벤트에서 생성된 메시지 출력\n",
    "    for value in event.values():\n",
    "        print(\"Assistant:\", value[\"messages\"][-1].content)"
   ]
  },
  {
   "cell_type": "code",
   "execution_count": null,
   "metadata": {},
   "outputs": [],
   "source": []
  }
 ],
 "metadata": {
  "kernelspec": {
   "display_name": ".venv",
   "language": "python",
   "name": "python3"
  },
  "language_info": {
   "codemirror_mode": {
    "name": "ipython",
    "version": 3
   },
   "file_extension": ".py",
   "mimetype": "text/x-python",
   "name": "python",
   "nbconvert_exporter": "python",
   "pygments_lexer": "ipython3",
   "version": "3.11.9"
  }
 },
 "nbformat": 4,
 "nbformat_minor": 2
}
